{
 "cells": [
  {
   "cell_type": "code",
   "execution_count": 3,
   "id": "c583d5ec",
   "metadata": {},
   "outputs": [
    {
     "name": "stdout",
     "output_type": "stream",
     "text": [
      "Python:Exercises::PHP:exercises:\n"
     ]
    }
   ],
   "source": [
    "# Question 1.write a python program to replace all occurrences of a space,comma,or dot with a colon.\n",
    "\n",
    "import re\n",
    "text = 'Python Exercises, PHP exercises.'\n",
    "print(re.sub(\"[ ,.]\",\":\",text))"
   ]
  },
  {
   "cell_type": "code",
   "execution_count": 4,
   "id": "6e4eb35e",
   "metadata": {},
   "outputs": [
    {
     "name": "stdout",
     "output_type": "stream",
     "text": [
      "['ephants', 'are', 'argest', 'and', 'animals', 'ee', 'ecies', 'are', 'ently', 'ecognised', 'an', 'elephant', 'an', 'est', 'elephant', 'and', 'an', 'elephant']\n"
     ]
    }
   ],
   "source": [
    "# Question 2 . write a python program to find all words starting with 'a' or 'e' in a givin string.\n",
    "\n",
    "import re\n",
    "text = 'Elephants are the largest living land animals,three living species are currently recognised: the African buse elephant,the African forest elephant,and the Asian elephant'\n",
    "result = re.findall(\"[ae]\\w+\",text)\n",
    "print(result)\n"
   ]
  },
  {
   "cell_type": "code",
   "execution_count": 17,
   "id": "5ec48c9f",
   "metadata": {},
   "outputs": [
    {
     "name": "stdout",
     "output_type": "stream",
     "text": [
      "['virat', 'cricket', 'player', 'bron', 'nuvember', '1988']\n"
     ]
    }
   ],
   "source": [
    "#Question 3.Caret a function in python to find all words that are at least 4 characters iong in a string. the use of the re.compile ()method is mandatory.\n",
    "\n",
    "string =\"virat is a cricket player','He was bron on nuvember 5,1988 .\"\n",
    "import re\n",
    "pattern = r\"\\b\\w{4,}\\b\"\n",
    "re.pattern = re.compile(pattern)\n",
    "result = re.pattern.findall(string)\n",
    "print(result)\n"
   ]
  },
  {
   "cell_type": "code",
   "execution_count": 1,
   "id": "8b460010",
   "metadata": {},
   "outputs": [
    {
     "name": "stdout",
     "output_type": "stream",
     "text": [
      "['The', 'quick', 'brown', 'fox', 'jumps', 'over', 'the', 'lazy', 'dog']\n"
     ]
    }
   ],
   "source": [
    "# Question 4 . Caret a function in python to find all three,four,and five character words in a string.the use of the re.compile()method is mandatory.\n",
    "\n",
    "string = \" The quick brown fox jumps over the lazy dog.\"\n",
    "import re\n",
    "pattern = r\"\\b\\w{3,5}\\b\"\n",
    "re.pattern = re.compile(pattern)\n",
    "result = re.pattern.findall(string)\n",
    "print(result)"
   ]
  },
  {
   "cell_type": "code",
   "execution_count": 8,
   "id": "65ce14fc",
   "metadata": {},
   "outputs": [
    {
     "name": "stdout",
     "output_type": "stream",
     "text": [
      "['Importance', 'Of', 'Regular', 'Expressions', 'In', 'Python']\n"
     ]
    }
   ],
   "source": [
    "# Question 7- Write a regular expression in Python to split a string into uppercase letters.\n",
    "import re \n",
    "str = \"ImportanceOfRegularExpressionsInPython\"\n",
    "reselt = re.findall('[A-Z][^A-Z]*',str)\n",
    "print(reselt)"
   ]
  },
  {
   "cell_type": "code",
   "execution_count": 18,
   "id": "9fc6d753",
   "metadata": {},
   "outputs": [
    {
     "name": "stdout",
     "output_type": "stream",
     "text": [
      "Not matched!\n",
      "found a match!\n"
     ]
    }
   ],
   "source": [
    "#Question 11- Write a Python program to match a string that contains only upper and lowercaseletters, numbers, and underscor.\n",
    "import re\n",
    "def text_match(text):\n",
    "    patterns = '^[a-zA-z0-9_]*$'\n",
    "    if re.search(patterns, text):\n",
    "        return 'found a match!'\n",
    "    else:\n",
    "        return('Not matched!')\n",
    "print(text_match(\"The quick brown for jumps over the lazy dog.\"))\n",
    "print(text_match(\"sql_exercises_2\"))"
   ]
  },
  {
   "cell_type": "code",
   "execution_count": 16,
   "id": "f48a104a",
   "metadata": {},
   "outputs": [
    {
     "name": "stdout",
     "output_type": "stream",
     "text": [
      "True\n",
      "False\n"
     ]
    }
   ],
   "source": [
    "#Question 12- Write a Python program where a string will start with a specific number.\n",
    "import re \n",
    "def match_num(str):\n",
    "    text=re.compile(r\"^5\")\n",
    "    if text.match(str):\n",
    "        return True\n",
    "    else:\n",
    "        return False\n",
    "print(match_num('5-22945861'))\n",
    "print(match_num('6-22945861'))"
   ]
  },
  {
   "cell_type": "code",
   "execution_count": 19,
   "id": "f270ffe3",
   "metadata": {},
   "outputs": [
    {
     "name": "stdout",
     "output_type": "stream",
     "text": [
      "326.89.65.196\n"
     ]
    }
   ],
   "source": [
    "#Question 13- Write a Python program to remove leading zeros from an IP address.\n",
    "import re\n",
    "ip = \"326.089.065.196\"\n",
    "reselt = re.sub('\\.[0]*','.',ip)\n",
    "print(reselt)"
   ]
  },
  {
   "cell_type": "code",
   "execution_count": 20,
   "id": "e62341f8",
   "metadata": {},
   "outputs": [
    {
     "name": "stdout",
     "output_type": "stream",
     "text": [
      "searching for \"fox\"in \"The quick brown fox jumps over the lazy dog.\"->\n",
      "Matched!\n",
      "searching for \"dog\"in \"The quick brown fox jumps over the lazy dog.\"->\n",
      "Matched!\n",
      "searching for \"house\"in \"The quick brown fox jumps over the lazy dog.\"->\n",
      "Not Matched\n"
     ]
    }
   ],
   "source": [
    "#Question 15- Write a Python program to search some literals strings in a string.\n",
    "import re\n",
    "text = 'The quick brown fox jumps over the lazy dog.'\n",
    "patterns = ['fox','dog','house']\n",
    "for pattern in patterns:\n",
    "    print('searching for \"%s\"in \"%s\"->'% (pattern, text),)\n",
    "    if re.search(pattern, text):\n",
    "        print('Matched!')\n",
    "    else:\n",
    "        print('Not Matched')"
   ]
  },
  {
   "cell_type": "code",
   "execution_count": 1,
   "id": "1dc4ad6b",
   "metadata": {},
   "outputs": [
    {
     "name": "stdout",
     "output_type": "stream",
     "text": [
      "Found \"fox\" in \"The quick brown fox jumps over the lazy dog.\" from 16 to 19 \n"
     ]
    }
   ],
   "source": [
    "#Question 16- Write a Python program to search a literals string in a string and also find the location within the original string where the pattern occurs\n",
    "import re\n",
    "pattern = 'fox'\n",
    "text = 'The quick brown fox jumps over the lazy dog.'\n",
    "match = re.search(pattern, text)\n",
    "s = match.start()\n",
    "e = match.end()\n",
    "print('Found \"%s\" in \"%s\" from %d to %d ' % \\\n",
    "    (match.re.pattern, match.string, s, e))"
   ]
  },
  {
   "cell_type": "code",
   "execution_count": 2,
   "id": "631c5e09",
   "metadata": {},
   "outputs": [
    {
     "name": "stdout",
     "output_type": "stream",
     "text": [
      "Found \"exercises\"\n",
      "Found \"exercises\"\n",
      "Found \"exercises\"\n"
     ]
    }
   ],
   "source": [
    "# Question 17- Write a Python program to find the substrings within a string.\n",
    "\n",
    "import re\n",
    "text = 'Python exercises, PHP exercises, C# exercises'\n",
    "pattern = 'exercises'\n",
    "for match in re.findall(pattern, text):\n",
    "    print('Found \"%s\"' % match)"
   ]
  },
  {
   "cell_type": "code",
   "execution_count": 3,
   "id": "40704139",
   "metadata": {},
   "outputs": [
    {
     "name": "stdout",
     "output_type": "stream",
     "text": [
      "Found \"exercises\" at 7:16\n",
      "Found \"exercises\" at 22:31\n",
      "Found \"exercises\" at 36:45\n"
     ]
    }
   ],
   "source": [
    " #Question 18- Write a Python program to find the occurrence and position of the substrings within a string.\n",
    "    \n",
    "import re\n",
    "text = 'Python exercises, PHP exercises, C# exercises'\n",
    "pattern = 'exercises'\n",
    "for match in re.finditer(pattern, text):\n",
    "    s = match.start()\n",
    "    e = match.end()\n",
    "    print('Found \"%s\" at %d:%d' % (text[s:e], s, e))"
   ]
  },
  {
   "cell_type": "code",
   "execution_count": 5,
   "id": "2e632107",
   "metadata": {},
   "outputs": [
    {
     "name": "stdout",
     "output_type": "stream",
     "text": [
      "50\n",
      "Index position: 62\n"
     ]
    }
   ],
   "source": [
    "#Question 21- Write a Python program to separate and print the numbers and their position of a given string.\n",
    "\n",
    "import re\n",
    "text = \"The following example creates an ArrayList with a capacity of 50 elements. Four elements are then added to the ArrayList and the ArrayList is trimmed accordingly.\"\n",
    "\n",
    "for m in re.finditer(\"\\d+\", text):\n",
    "    print(m.group(0))\n",
    "    print(\"Index position:\", m.start())\n",
    "\t"
   ]
  },
  {
   "cell_type": "code",
   "execution_count": 8,
   "id": "6d0d3191",
   "metadata": {},
   "outputs": [
    {
     "name": "stdout",
     "output_type": "stream",
     "text": [
      "Original date in YYY-MM-DD Format:  2023-08-05\n",
      "New date in DD-MM-YYYY Format:  05-08-2023\n"
     ]
    }
   ],
   "source": [
    "# Question 19 Write a Python program to convert a date of yyyy-mm-dd format to dd-mm-yyyy format.\n",
    "\n",
    "import re\n",
    "def change_date_format(dt):\n",
    "        return re.sub(r'(\\d{4})-(\\d{1,2})-(\\d{1,2})', '\\\\3-\\\\2-\\\\1', dt)\n",
    "dt1 = \"2023-08-05\"\n",
    "print(\"Original date in YYY-MM-DD Format: \",dt1)\n",
    "print(\"New date in DD-MM-YYYY Format: \",change_date_format(dt1))"
   ]
  },
  {
   "cell_type": "code",
   "execution_count": 1,
   "id": "bf25e304",
   "metadata": {},
   "outputs": [
    {
     "name": "stdout",
     "output_type": "stream",
     "text": [
      "Max_value: 950\n"
     ]
    }
   ],
   "source": [
    "#Question 22- Write a regular expression in python program to extract maximum/largest numeric value from a string.\n",
    "\n",
    "import re\n",
    "\n",
    "string='My marks in each semester are: 947, 896, 926, 524, 734, 950,642'\n",
    "number = re.findall('\\d+', string)\n",
    "number = map(int, number)\n",
    "print(\"Max_value:\",max(number))"
   ]
  },
  {
   "cell_type": "code",
   "execution_count": 4,
   "id": "ebc19708",
   "metadata": {},
   "outputs": [
    {
     "name": "stdout",
     "output_type": "stream",
     "text": [
      "example\n",
      "hr@fliprobo\n",
      "github\n",
      "Hello\n",
      "Data\n"
     ]
    }
   ],
   "source": [
    "#Question 5- Create a function in Python to remove the parenthesis in a list of strings. The use of the re.compile() method is mandatory.import re\n",
    "import re\n",
    "items = [\"example (.com)\", \"hr@fliprobo (.com)\",\"github (.com)\",\"Hello (Data Science World)\",\n",
    "\"Data (Scientist)\"]\n",
    "for item in items:\n",
    "    print(re.sub(r\" ?\\([^)]+\\)\", \"\", item))"
   ]
  },
  {
   "cell_type": "code",
   "execution_count": 3,
   "id": "a4921e49",
   "metadata": {},
   "outputs": [
    {
     "name": "stdout",
     "output_type": "stream",
     "text": [
      "RegularExpression 1IsAn 2ImportantTopic 3InPython\n"
     ]
    }
   ],
   "source": [
    "# Question 8- Create a function in python to insert spaces between words starting with numbers.\n",
    "\n",
    "import re\n",
    "str1= \"RegularExpression1IsAn2ImportantTopic3InPython\"\n",
    "result= re.sub(r\"(\\w)([0-9])\", r\"\\1 \\2\", str1)\n",
    "print(result)"
   ]
  },
  {
   "cell_type": "code",
   "execution_count": 7,
   "id": "258d07c0",
   "metadata": {},
   "outputs": [
    {
     "name": "stdout",
     "output_type": "stream",
     "text": [
      "Regular Expression 1Is An 2Important Topic 3In Python\n"
     ]
    }
   ],
   "source": [
    "# Question 9- Create a function in python to insert spaces between words starting with capital letters or with numbers.\n",
    "import re\n",
    "str1= \"RegularExpression1IsAn2ImportantTopic3InPython\"\n",
    "result= re.sub(r\"(\\w)([A-Z0-9])\", r\"\\1 \\2\", str1)\n",
    "print(result)"
   ]
  },
  {
   "cell_type": "code",
   "execution_count": 6,
   "id": "cc0db03b",
   "metadata": {},
   "outputs": [
    {
     "name": "stdout",
     "output_type": "stream",
     "text": [
      "['xyz@domain.com', 'xyz.abc@sdomain.domain.com', 'hr@fliprobo.com']\n"
     ]
    }
   ],
   "source": [
    "#Question 10- Write a python program to extract email address from the text stored in the text file using Regular Expression.\n",
    "import re\n",
    "text = \"Hello my name is Data Science and my email address is xyz@domain.com and alternate email address is xyz.abc@sdomain.domain.com.Please contact us at hr@fliprobo.com for further information.\"\n",
    "emails = re.findall(r\"[a-z0-9\\.\\-+_]+@[a-z0-9\\.\\-+_]+\\.[a-z]+\", text)\n",
    "print (emails)"
   ]
  },
  {
   "cell_type": "code",
   "execution_count": 8,
   "id": "931cff24",
   "metadata": {},
   "outputs": [
    {
     "name": "stdout",
     "output_type": "stream",
     "text": [
      "Max_value: 950\n"
     ]
    }
   ],
   "source": [
    "# Question 22- Write a regular expression in python program to extract maximum/largest numeric value from a string.\n",
    "\n",
    "import re\n",
    "input ='My marks in each semester are: 947, 896, 926, 524, 734, 950, 642'\n",
    "numbers = re.findall('\\d+',input)\n",
    "numbers = map(int,numbers)\n",
    "print(\"Max_value:\",max(numbers))"
   ]
  },
  {
   "cell_type": "code",
   "execution_count": 9,
   "id": "96fc833b",
   "metadata": {},
   "outputs": [
    {
     "name": "stdout",
     "output_type": "stream",
     "text": [
      "Regular Expression Is An Important Topic In Python\n"
     ]
    }
   ],
   "source": [
    "# Question 23- Create a function in python to insert spaces between words starting with capital letters.\n",
    "\n",
    "import re\n",
    "str1= \"RegularExpressionIsAnImportantTopicInPython\"\n",
    "result= re.sub(r\"(\\w)([A-Z])\", r\"\\1 \\2\", str1)\n",
    "print(result)"
   ]
  },
  {
   "cell_type": "code",
   "execution_count": 11,
   "id": "f5767085",
   "metadata": {},
   "outputs": [
    {
     "name": "stdout",
     "output_type": "stream",
     "text": [
      "Found a match!\n",
      "Not matched!\n"
     ]
    }
   ],
   "source": [
    "# Question 24- Python regex to find sequences of one upper case letter followed by lower case letters\n",
    "import re\n",
    "def text_match(text):\n",
    "        patterns = '[A-Z]+[a-z]+$'\n",
    "        if re.search(patterns, text):\n",
    "                return 'Found a match!'\n",
    "        else:\n",
    "                return('Not matched!')\n",
    "print(text_match(\"Python\"))\n",
    "print(text_match(\"python\"))"
   ]
  },
  {
   "cell_type": "code",
   "execution_count": 12,
   "id": "87b00fbb",
   "metadata": {},
   "outputs": [
    {
     "name": "stdout",
     "output_type": "stream",
     "text": [
      "Hello world\n"
     ]
    }
   ],
   "source": [
    "# Question 25- Write a Python program to remove continuous duplicate words from Sentence using Regular Expression.\n",
    "\n",
    "import re\n",
    "\n",
    "def removeDuplicatesFromText(text):\n",
    "    regex = r'\\b(\\w+)(?:\\W+\\1\\b)+' \n",
    "    return re.sub(regex, r'\\1', text, flags=re.IGNORECASE)\n",
    "\n",
    "str1 = \"Hello hello world world\"\n",
    "print(removeDuplicatesFromText(str1))\n"
   ]
  },
  {
   "cell_type": "code",
   "execution_count": 14,
   "id": "04efe6c1",
   "metadata": {},
   "outputs": [
    {
     "name": "stdout",
     "output_type": "stream",
     "text": [
      "Discard\n",
      "Accept\n"
     ]
    }
   ],
   "source": [
    " # Question 26- Write a python program using RegEx to accept string ending with alphanumeric character.\n",
    "    \n",
    "import re\n",
    "\n",
    "regex = '[a-zA-z0-9]$'\n",
    "def check(string):\n",
    "    if(re.search(regex, string)):\n",
    "        print(\"Accept\")\n",
    "         \n",
    "    else:\n",
    "        print(\"Discard\")\n",
    "if __name__ == '__main__' :\n",
    "     \n",
    "    string = \"ankirai@\"\n",
    "     \n",
    "    check(string)\n",
    " \n",
    "    string = \"geeksforgeeks\"\n",
    "    check(string) "
   ]
  },
  {
   "cell_type": "code",
   "execution_count": 1,
   "id": "ea6b35e7",
   "metadata": {},
   "outputs": [
    {
     "name": "stdout",
     "output_type": "stream",
     "text": [
      "['#Doltiwal', '#xyzabc', '#Demonetization']\n"
     ]
    }
   ],
   "source": [
    "# Question 27-Write a python program using RegEx to extract the hashtags.\n",
    "\n",
    "import re\n",
    "text = \"\"\"RT @kapil_kausik: #Doltiwal I mean #xyzabc is \"hurt\" by #Demonetization as the same has rendered USELESS <ed><U+00A0><U+00BD><ed><U+00B1><U+0089> \"acquired funds\" No wo\"\"\"\n",
    "import re\n",
    "pattern = r'#\\S+'\n",
    "result=re.findall(pattern, text)\n",
    "print(result)"
   ]
  },
  {
   "cell_type": "code",
   "execution_count": 2,
   "id": "03d6573a",
   "metadata": {},
   "outputs": [
    {
     "name": "stdout",
     "output_type": "stream",
     "text": [
      "@Jags123456 Bharat band on 28??<ed><U+00A0><U+00BD><ed><U+00B8><U+0082>Those who  are protesting #demonetization  are all different party leaders\n"
     ]
    }
   ],
   "source": [
    "# Question 28- Write a python program using RegEx to remove <U+..> like symbols\n",
    "\n",
    "import re\n",
    "text=\"@Jags123456 Bharat band on 28??<ed><U+00A0><U+00BD><ed><U+00B8><U+0082>Those who  are protesting #demonetization  are all different party leaders\"\n",
    "\n",
    "pattern = r\"<U\\+[A-F0-9]{2}>\"\n",
    "result = re.sub(pattern, \"\", text)\n",
    "print(result)"
   ]
  },
  {
   "cell_type": "code",
   "execution_count": 3,
   "id": "3ae1c39b",
   "metadata": {},
   "outputs": [
    {
     "name": "stdout",
     "output_type": "stream",
     "text": [
      " following example creates  ArrayList  a capacity   elements. 4 elements   added   ArrayList   ArrayList  trimmed accordingly.\n"
     ]
    }
   ],
   "source": [
    " # Question 30- Create a function in python to remove all words from a string of length between 2 and 4.\n",
    "    \n",
    "import re\n",
    "text =\"The following example creates an ArrayList with a capacity of 50 elements. 4 elements are then added to the ArrayList and the ArrayList is trimmed accordingly.\"\n",
    "shortword = re.compile(r'\\w*\\b\\w{2,4}\\b')\n",
    "print(shortword.sub('',text))"
   ]
  },
  {
   "cell_type": "code",
   "execution_count": null,
   "id": "aed6307c",
   "metadata": {},
   "outputs": [],
   "source": []
  }
 ],
 "metadata": {
  "kernelspec": {
   "display_name": "Python 3 (ipykernel)",
   "language": "python",
   "name": "python3"
  },
  "language_info": {
   "codemirror_mode": {
    "name": "ipython",
    "version": 3
   },
   "file_extension": ".py",
   "mimetype": "text/x-python",
   "name": "python",
   "nbconvert_exporter": "python",
   "pygments_lexer": "ipython3",
   "version": "3.9.13"
  }
 },
 "nbformat": 4,
 "nbformat_minor": 5
}
